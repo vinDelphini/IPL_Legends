{
 "cells": [
  {
   "cell_type": "code",
   "execution_count": 14,
   "metadata": {},
   "outputs": [],
   "source": [
    "import pandas as pd\n",
    "df = pd.read_csv(r'ipl.csv')"
   ]
  },
  {
   "cell_type": "code",
   "execution_count": 15,
   "metadata": {},
   "outputs": [],
   "source": [
    "SCORE_MAPPING = {\n",
    "    1: 200,\n",
    "    2: 190,\n",
    "    3: 180,\n",
    "    4: 170,\n",
    "    5: 160,\n",
    "    6: 150,\n",
    "    7: 140,\n",
    "    0: 140,\n",
    "}"
   ]
  },
  {
   "cell_type": "code",
   "execution_count": 16,
   "metadata": {},
   "outputs": [
    {
     "name": "stdout",
     "output_type": "stream",
     "text": [
      "     score  contender_id  match_id  mapped_score\n",
      "0        0             1         1           140\n",
      "1        0             3         1           140\n",
      "2        1             5         1           200\n",
      "3        2             4         1           190\n",
      "4        3             7         1           180\n",
      "..     ...           ...       ...           ...\n",
      "303      3             3        44           180\n",
      "304      4             4        44           170\n",
      "305      5             7        44           160\n",
      "306      6             6        44           150\n",
      "307      7             5        44           140\n",
      "\n",
      "[308 rows x 4 columns]\n"
     ]
    }
   ],
   "source": [
    "# create a new column with the mapped values\n",
    "df['mapped_score'] = df['score'].map(SCORE_MAPPING)\n",
    "\n",
    "# define a custom function to adjust the mapped score\n",
    "def adjust_mapped_score(group):\n",
    "    if len(group) > 1 and group['score'].iloc[0] != 0:\n",
    "        # adjust the mapped score for groups with more than one contender with the same non-zero score\n",
    "        group['mapped_score'] = group['mapped_score'] - 5\n",
    "    return group\n",
    "\n",
    "# group the dataframe by match_id, score, and mapped_score, and apply the custom function to adjust the mapped score\n",
    "df = df.groupby(['match_id', 'score', 'mapped_score']).apply(adjust_mapped_score).reset_index(drop=True)\n",
    "\n",
    "# print the updated dataframe\n",
    "print(df)"
   ]
  },
  {
   "cell_type": "code",
   "execution_count": 17,
   "metadata": {},
   "outputs": [
    {
     "name": "stdout",
     "output_type": "stream",
     "text": [
      "contender_id\n",
      "5    7765\n",
      "7    7735\n",
      "4    7645\n",
      "6    7470\n",
      "2    7295\n",
      "1    7250\n",
      "3    7190\n",
      "Name: mapped_score, dtype: int64\n"
     ]
    }
   ],
   "source": [
    "# group the dataframe by contender_id, calculate the sum of mapped scores, and sort by the sum of mapped scores in descending order\n",
    "sum_of_mapped_scores = df.groupby('contender_id')['mapped_score'].sum().sort_values(ascending=False)\n",
    "\n",
    "# print the sum of mapped scores for each contender, sorted in descending order\n",
    "print(sum_of_mapped_scores)"
   ]
  },
  {
   "cell_type": "code",
   "execution_count": null,
   "metadata": {},
   "outputs": [],
   "source": []
  }
 ],
 "metadata": {
  "kernelspec": {
   "display_name": "venv",
   "language": "python",
   "name": "python3"
  },
  "language_info": {
   "codemirror_mode": {
    "name": "ipython",
    "version": 3
   },
   "file_extension": ".py",
   "mimetype": "text/x-python",
   "name": "python",
   "nbconvert_exporter": "python",
   "pygments_lexer": "ipython3",
   "version": "3.8.10"
  },
  "orig_nbformat": 4
 },
 "nbformat": 4,
 "nbformat_minor": 2
}
